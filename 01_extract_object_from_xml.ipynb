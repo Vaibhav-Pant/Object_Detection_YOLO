{
 "cells": [
  {
   "cell_type": "code",
   "execution_count": 50,
   "id": "f2491cc7-d1da-46f6-9ced-50f9f6d21ea2",
   "metadata": {},
   "outputs": [],
   "source": [
    "import os\n",
    "from glob import glob\n",
    "import pandas as pd\n",
    "from functools import reduce\n",
    "from xml.etree import ElementTree as et"
   ]
  },
  {
   "cell_type": "code",
   "execution_count": 51,
   "id": "04db9530-3952-418a-ab90-5122a3189156",
   "metadata": {},
   "outputs": [],
   "source": [
    "#Step 1\n",
    "#getting path of each xml file\n",
    "xmlfiles = glob('./1_datapreparation/data_images/*.xml')\n",
    "#data cleaning. replace \\\\ with /\n",
    "xmlfiles = list(map(lambda x: x.replace('\\\\','/'), xmlfiles))"
   ]
  },
  {
   "cell_type": "code",
   "execution_count": 52,
   "id": "638faf50-944a-4122-a4be-dfe7e23d3491",
   "metadata": {},
   "outputs": [
    {
     "data": {
      "text/plain": [
       "[]"
      ]
     },
     "execution_count": 52,
     "metadata": {},
     "output_type": "execute_result"
    }
   ],
   "source": [
    "xmlfiles"
   ]
  },
  {
   "cell_type": "code",
   "execution_count": 45,
   "id": "db8776b4-97c4-4590-aa3d-4fcab9f83e60",
   "metadata": {},
   "outputs": [],
   "source": [
    "#step 2\n",
    "#read xml file and extract filename, size(width, height), \n",
    "#object(name, xmin, xmax, ymin, ymax)\n",
    "def extract_text(filename):\n",
    "    tree = et.parse(filename)\n",
    "    root = tree.getroot()\n",
    "\n",
    "    #extract filename\n",
    "    image_name = root.find('filename').text\n",
    "    #width and height of the image\n",
    "    width = root.find('size').find('width').text\n",
    "    height = root.find('size').find('height').text\n",
    "    objs = root.findall('object')\n",
    "    parser = []\n",
    "    for obj in objs:\n",
    "        name = obj.find('name').text\n",
    "        bndbox = obj.find('bndbox')\n",
    "        xmin = bndbox.find('xmin').text\n",
    "        xmax = bndbox.find('xmax').text\n",
    "        ymin = bndbox.find('ymin').text\n",
    "        ymax = bndbox.find('ymax').text\n",
    "        parser.append([image_name, width, height, name, xmin, xmax, ymin, ymax])\n",
    "\n",
    "    return parser\n"
   ]
  },
  {
   "cell_type": "code",
   "execution_count": 46,
   "id": "13c61f18-ec3e-4f32-896b-5d7802f4c09c",
   "metadata": {},
   "outputs": [],
   "source": [
    "parser_all = list(map(extract_text, xmlfiles))"
   ]
  },
  {
   "cell_type": "code",
   "execution_count": 54,
   "id": "0093412b-02d7-4068-8a8d-caaca472da4f",
   "metadata": {},
   "outputs": [],
   "source": [
    "data = reduce(lambda x, y: x + y, parser_all)"
   ]
  },
  {
   "cell_type": "code",
   "execution_count": 48,
   "id": "747fe1ce-4e69-473c-935a-e5a3cfa25e24",
   "metadata": {},
   "outputs": [],
   "source": [
    "df = pd.DataFrame(data, columns = ['filename', 'width', 'height', 'name', 'xmin', 'xmax', 'ymin', 'ymax'])"
   ]
  },
  {
   "cell_type": "code",
   "execution_count": 49,
   "id": "61517d21-4bb9-4caf-83a4-c5a454a0d577",
   "metadata": {},
   "outputs": [
    {
     "data": {
      "text/html": [
       "<div>\n",
       "<style scoped>\n",
       "    .dataframe tbody tr th:only-of-type {\n",
       "        vertical-align: middle;\n",
       "    }\n",
       "\n",
       "    .dataframe tbody tr th {\n",
       "        vertical-align: top;\n",
       "    }\n",
       "\n",
       "    .dataframe thead th {\n",
       "        text-align: right;\n",
       "    }\n",
       "</style>\n",
       "<table border=\"1\" class=\"dataframe\">\n",
       "  <thead>\n",
       "    <tr style=\"text-align: right;\">\n",
       "      <th></th>\n",
       "      <th>filename</th>\n",
       "      <th>width</th>\n",
       "      <th>height</th>\n",
       "      <th>name</th>\n",
       "      <th>xmin</th>\n",
       "      <th>xmax</th>\n",
       "      <th>ymin</th>\n",
       "      <th>ymax</th>\n",
       "    </tr>\n",
       "  </thead>\n",
       "  <tbody>\n",
       "    <tr>\n",
       "      <th>0</th>\n",
       "      <td>1.jpg</td>\n",
       "      <td>1529</td>\n",
       "      <td>975</td>\n",
       "      <td>tree</td>\n",
       "      <td>1009</td>\n",
       "      <td>1053</td>\n",
       "      <td>340</td>\n",
       "      <td>376</td>\n",
       "    </tr>\n",
       "    <tr>\n",
       "      <th>1</th>\n",
       "      <td>1.jpg</td>\n",
       "      <td>1529</td>\n",
       "      <td>975</td>\n",
       "      <td>tree</td>\n",
       "      <td>1038</td>\n",
       "      <td>1089</td>\n",
       "      <td>379</td>\n",
       "      <td>415</td>\n",
       "    </tr>\n",
       "    <tr>\n",
       "      <th>2</th>\n",
       "      <td>1.jpg</td>\n",
       "      <td>1529</td>\n",
       "      <td>975</td>\n",
       "      <td>tree</td>\n",
       "      <td>853</td>\n",
       "      <td>880</td>\n",
       "      <td>201</td>\n",
       "      <td>227</td>\n",
       "    </tr>\n",
       "    <tr>\n",
       "      <th>3</th>\n",
       "      <td>1.jpg</td>\n",
       "      <td>1529</td>\n",
       "      <td>975</td>\n",
       "      <td>tree</td>\n",
       "      <td>914</td>\n",
       "      <td>955</td>\n",
       "      <td>198</td>\n",
       "      <td>232</td>\n",
       "    </tr>\n",
       "    <tr>\n",
       "      <th>4</th>\n",
       "      <td>1.jpg</td>\n",
       "      <td>1529</td>\n",
       "      <td>975</td>\n",
       "      <td>tree</td>\n",
       "      <td>857</td>\n",
       "      <td>899</td>\n",
       "      <td>248</td>\n",
       "      <td>285</td>\n",
       "    </tr>\n",
       "  </tbody>\n",
       "</table>\n",
       "</div>"
      ],
      "text/plain": [
       "  filename width height  name  xmin  xmax ymin ymax\n",
       "0    1.jpg  1529    975  tree  1009  1053  340  376\n",
       "1    1.jpg  1529    975  tree  1038  1089  379  415\n",
       "2    1.jpg  1529    975  tree   853   880  201  227\n",
       "3    1.jpg  1529    975  tree   914   955  198  232\n",
       "4    1.jpg  1529    975  tree   857   899  248  285"
      ]
     },
     "execution_count": 49,
     "metadata": {},
     "output_type": "execute_result"
    }
   ],
   "source": [
    "df.head()"
   ]
  },
  {
   "cell_type": "code",
   "execution_count": 10,
   "id": "f83cdc6f-b377-4a5b-a24d-814e985f48aa",
   "metadata": {},
   "outputs": [
    {
     "data": {
      "text/plain": [
       "(4179, 8)"
      ]
     },
     "execution_count": 10,
     "metadata": {},
     "output_type": "execute_result"
    }
   ],
   "source": [
    "# df.shape"
   ]
  },
  {
   "cell_type": "code",
   "execution_count": 11,
   "id": "fddcc1be-5c9f-4133-9725-9933e823ca74",
   "metadata": {},
   "outputs": [],
   "source": [
    "# df['name'].value_counts()"
   ]
  },
  {
   "cell_type": "code",
   "execution_count": 12,
   "id": "c7637869-d837-4bbd-821c-a77f8a6a21aa",
   "metadata": {},
   "outputs": [
    {
     "name": "stdout",
     "output_type": "stream",
     "text": [
      "<class 'pandas.core.frame.DataFrame'>\n",
      "RangeIndex: 4179 entries, 0 to 4178\n",
      "Data columns (total 8 columns):\n",
      " #   Column    Non-Null Count  Dtype \n",
      "---  ------    --------------  ----- \n",
      " 0   filename  4179 non-null   object\n",
      " 1   width     4179 non-null   object\n",
      " 2   height    4179 non-null   object\n",
      " 3   name      4179 non-null   object\n",
      " 4   xmin      4179 non-null   object\n",
      " 5   xmax      4179 non-null   object\n",
      " 6   ymin      4179 non-null   object\n",
      " 7   ymax      4179 non-null   object\n",
      "dtypes: object(8)\n",
      "memory usage: 261.3+ KB\n"
     ]
    }
   ],
   "source": [
    "df.info()"
   ]
  },
  {
   "cell_type": "code",
   "execution_count": 13,
   "id": "9aa82628-a837-4229-9bc9-dd31afa0e66d",
   "metadata": {},
   "outputs": [
    {
     "name": "stdout",
     "output_type": "stream",
     "text": [
      "<class 'pandas.core.frame.DataFrame'>\n",
      "RangeIndex: 4179 entries, 0 to 4178\n",
      "Data columns (total 8 columns):\n",
      " #   Column    Non-Null Count  Dtype \n",
      "---  ------    --------------  ----- \n",
      " 0   filename  4179 non-null   object\n",
      " 1   width     4179 non-null   int32 \n",
      " 2   height    4179 non-null   int32 \n",
      " 3   name      4179 non-null   object\n",
      " 4   xmin      4179 non-null   int32 \n",
      " 5   xmax      4179 non-null   int32 \n",
      " 6   ymin      4179 non-null   int32 \n",
      " 7   ymax      4179 non-null   int32 \n",
      "dtypes: int32(6), object(2)\n",
      "memory usage: 163.4+ KB\n"
     ]
    }
   ],
   "source": [
    "#type conversion\n",
    "cols = ['width', 'height','xmin', 'xmax', 'ymin', 'ymax']\n",
    "df[cols]  = df[cols].astype(int)\n",
    "df.info()"
   ]
  },
  {
   "cell_type": "code",
   "execution_count": 14,
   "id": "95a89a61-f820-441e-8421-dd1115b08018",
   "metadata": {},
   "outputs": [],
   "source": [
    "#Centre x, y\n",
    "df['centre_x'] = ((df['xmax'] + df['xmin'])/2) /df['width']\n",
    "df['centre_y'] = ((df['ymax'] + df['ymin'])/2) /df['height']\n",
    "\n",
    "# Width w\n",
    "df['W'] = (df['xmax'] - df['xmin'])/df['width']\n",
    "# Height h\n",
    "df['H'] = (df['ymax'] - df['ymin'])/df['height']"
   ]
  },
  {
   "cell_type": "code",
   "execution_count": 15,
   "id": "91ca7377-4719-48e4-8aeb-b22c02ca1c8b",
   "metadata": {},
   "outputs": [
    {
     "data": {
      "text/html": [
       "<div>\n",
       "<style scoped>\n",
       "    .dataframe tbody tr th:only-of-type {\n",
       "        vertical-align: middle;\n",
       "    }\n",
       "\n",
       "    .dataframe tbody tr th {\n",
       "        vertical-align: top;\n",
       "    }\n",
       "\n",
       "    .dataframe thead th {\n",
       "        text-align: right;\n",
       "    }\n",
       "</style>\n",
       "<table border=\"1\" class=\"dataframe\">\n",
       "  <thead>\n",
       "    <tr style=\"text-align: right;\">\n",
       "      <th></th>\n",
       "      <th>filename</th>\n",
       "      <th>width</th>\n",
       "      <th>height</th>\n",
       "      <th>name</th>\n",
       "      <th>xmin</th>\n",
       "      <th>xmax</th>\n",
       "      <th>ymin</th>\n",
       "      <th>ymax</th>\n",
       "      <th>centre_x</th>\n",
       "      <th>centre_y</th>\n",
       "      <th>W</th>\n",
       "      <th>H</th>\n",
       "    </tr>\n",
       "  </thead>\n",
       "  <tbody>\n",
       "    <tr>\n",
       "      <th>0</th>\n",
       "      <td>1.jpg</td>\n",
       "      <td>1529</td>\n",
       "      <td>975</td>\n",
       "      <td>tree</td>\n",
       "      <td>1009</td>\n",
       "      <td>1053</td>\n",
       "      <td>340</td>\n",
       "      <td>376</td>\n",
       "      <td>0.674297</td>\n",
       "      <td>0.367179</td>\n",
       "      <td>0.028777</td>\n",
       "      <td>0.036923</td>\n",
       "    </tr>\n",
       "    <tr>\n",
       "      <th>1</th>\n",
       "      <td>1.jpg</td>\n",
       "      <td>1529</td>\n",
       "      <td>975</td>\n",
       "      <td>tree</td>\n",
       "      <td>1038</td>\n",
       "      <td>1089</td>\n",
       "      <td>379</td>\n",
       "      <td>415</td>\n",
       "      <td>0.695553</td>\n",
       "      <td>0.407179</td>\n",
       "      <td>0.033355</td>\n",
       "      <td>0.036923</td>\n",
       "    </tr>\n",
       "    <tr>\n",
       "      <th>2</th>\n",
       "      <td>1.jpg</td>\n",
       "      <td>1529</td>\n",
       "      <td>975</td>\n",
       "      <td>tree</td>\n",
       "      <td>853</td>\n",
       "      <td>880</td>\n",
       "      <td>201</td>\n",
       "      <td>227</td>\n",
       "      <td>0.566710</td>\n",
       "      <td>0.219487</td>\n",
       "      <td>0.017659</td>\n",
       "      <td>0.026667</td>\n",
       "    </tr>\n",
       "    <tr>\n",
       "      <th>3</th>\n",
       "      <td>1.jpg</td>\n",
       "      <td>1529</td>\n",
       "      <td>975</td>\n",
       "      <td>tree</td>\n",
       "      <td>914</td>\n",
       "      <td>955</td>\n",
       "      <td>198</td>\n",
       "      <td>232</td>\n",
       "      <td>0.611184</td>\n",
       "      <td>0.220513</td>\n",
       "      <td>0.026815</td>\n",
       "      <td>0.034872</td>\n",
       "    </tr>\n",
       "    <tr>\n",
       "      <th>4</th>\n",
       "      <td>1.jpg</td>\n",
       "      <td>1529</td>\n",
       "      <td>975</td>\n",
       "      <td>tree</td>\n",
       "      <td>857</td>\n",
       "      <td>899</td>\n",
       "      <td>248</td>\n",
       "      <td>285</td>\n",
       "      <td>0.574232</td>\n",
       "      <td>0.273333</td>\n",
       "      <td>0.027469</td>\n",
       "      <td>0.037949</td>\n",
       "    </tr>\n",
       "  </tbody>\n",
       "</table>\n",
       "</div>"
      ],
      "text/plain": [
       "  filename  width  height  name  xmin  xmax  ymin  ymax  centre_x  centre_y  \\\n",
       "0    1.jpg   1529     975  tree  1009  1053   340   376  0.674297  0.367179   \n",
       "1    1.jpg   1529     975  tree  1038  1089   379   415  0.695553  0.407179   \n",
       "2    1.jpg   1529     975  tree   853   880   201   227  0.566710  0.219487   \n",
       "3    1.jpg   1529     975  tree   914   955   198   232  0.611184  0.220513   \n",
       "4    1.jpg   1529     975  tree   857   899   248   285  0.574232  0.273333   \n",
       "\n",
       "          W         H  \n",
       "0  0.028777  0.036923  \n",
       "1  0.033355  0.036923  \n",
       "2  0.017659  0.026667  \n",
       "3  0.026815  0.034872  \n",
       "4  0.027469  0.037949  "
      ]
     },
     "execution_count": 15,
     "metadata": {},
     "output_type": "execute_result"
    }
   ],
   "source": [
    "df.head()"
   ]
  },
  {
   "cell_type": "code",
   "execution_count": 16,
   "id": "e1aff5bc-5747-493a-9645-a84fffc9d527",
   "metadata": {},
   "outputs": [],
   "source": [
    "images = df['filename'].unique()"
   ]
  },
  {
   "cell_type": "code",
   "execution_count": 18,
   "id": "c29c9495-d286-41d3-8d2a-831bd5b8b042",
   "metadata": {},
   "outputs": [],
   "source": [
    "# 80% train and 20 % test\n",
    "\n",
    "img_df = pd.DataFrame(images, columns=['filename'])\n",
    "img_train = tuple(img_df.sample(frac=0.8)['filename']) # shuffle and pick 80% of images\n"
   ]
  },
  {
   "cell_type": "code",
   "execution_count": 19,
   "id": "782839aa-3199-46a5-8897-bc34021d0370",
   "metadata": {},
   "outputs": [
    {
     "data": {
      "text/plain": [
       "('12.jpg',\n",
       " '2.jpg',\n",
       " '13.jpg',\n",
       " '4.jpg',\n",
       " '28.jpg',\n",
       " '18.jpg',\n",
       " '9.jpg',\n",
       " '5.jpg',\n",
       " '7.jpg',\n",
       " '3.jpg',\n",
       " '20.jpg',\n",
       " '51.jpg',\n",
       " '52.jpg',\n",
       " '58.jpg',\n",
       " '44.jpg',\n",
       " '14.jpg',\n",
       " '6.jpg',\n",
       " '48.jpg',\n",
       " '57.jpg',\n",
       " '60.jpg',\n",
       " '55.jpg',\n",
       " '15.jpg',\n",
       " '53.jpg',\n",
       " '54.jpg',\n",
       " '8.jpg',\n",
       " '1.jpg',\n",
       " '59.jpg')"
      ]
     },
     "execution_count": 19,
     "metadata": {},
     "output_type": "execute_result"
    }
   ],
   "source": [
    "img_train"
   ]
  },
  {
   "cell_type": "code",
   "execution_count": 20,
   "id": "9652d90d-abdc-4ccf-9165-41ffee25234b",
   "metadata": {},
   "outputs": [],
   "source": [
    "img_test = tuple(img_df.query(f'filename not in {img_train}')['filename'])"
   ]
  },
  {
   "cell_type": "code",
   "execution_count": 21,
   "id": "095bd00b-68b2-4388-a1b3-f1b62b229a3d",
   "metadata": {},
   "outputs": [
    {
     "data": {
      "text/plain": [
       "('10.jpg', '11.jpg', '56.jpg')"
      ]
     },
     "execution_count": 21,
     "metadata": {},
     "output_type": "execute_result"
    }
   ],
   "source": [
    "img_test"
   ]
  },
  {
   "cell_type": "code",
   "execution_count": 22,
   "id": "15a4218f-0255-49fe-ac84-fa46a1027b06",
   "metadata": {},
   "outputs": [],
   "source": [
    "train_df = df.query(f'filename in {img_train}')\n",
    "test_df = df.query(f'filename in {img_test }')"
   ]
  },
  {
   "cell_type": "code",
   "execution_count": 23,
   "id": "40264ea5-772c-4003-8618-7a47a2bc2f9a",
   "metadata": {},
   "outputs": [
    {
     "data": {
      "text/html": [
       "<div>\n",
       "<style scoped>\n",
       "    .dataframe tbody tr th:only-of-type {\n",
       "        vertical-align: middle;\n",
       "    }\n",
       "\n",
       "    .dataframe tbody tr th {\n",
       "        vertical-align: top;\n",
       "    }\n",
       "\n",
       "    .dataframe thead th {\n",
       "        text-align: right;\n",
       "    }\n",
       "</style>\n",
       "<table border=\"1\" class=\"dataframe\">\n",
       "  <thead>\n",
       "    <tr style=\"text-align: right;\">\n",
       "      <th></th>\n",
       "      <th>filename</th>\n",
       "      <th>width</th>\n",
       "      <th>height</th>\n",
       "      <th>name</th>\n",
       "      <th>xmin</th>\n",
       "      <th>xmax</th>\n",
       "      <th>ymin</th>\n",
       "      <th>ymax</th>\n",
       "      <th>centre_x</th>\n",
       "      <th>centre_y</th>\n",
       "      <th>W</th>\n",
       "      <th>H</th>\n",
       "    </tr>\n",
       "  </thead>\n",
       "  <tbody>\n",
       "    <tr>\n",
       "      <th>0</th>\n",
       "      <td>1.jpg</td>\n",
       "      <td>1529</td>\n",
       "      <td>975</td>\n",
       "      <td>tree</td>\n",
       "      <td>1009</td>\n",
       "      <td>1053</td>\n",
       "      <td>340</td>\n",
       "      <td>376</td>\n",
       "      <td>0.674297</td>\n",
       "      <td>0.367179</td>\n",
       "      <td>0.028777</td>\n",
       "      <td>0.036923</td>\n",
       "    </tr>\n",
       "    <tr>\n",
       "      <th>1</th>\n",
       "      <td>1.jpg</td>\n",
       "      <td>1529</td>\n",
       "      <td>975</td>\n",
       "      <td>tree</td>\n",
       "      <td>1038</td>\n",
       "      <td>1089</td>\n",
       "      <td>379</td>\n",
       "      <td>415</td>\n",
       "      <td>0.695553</td>\n",
       "      <td>0.407179</td>\n",
       "      <td>0.033355</td>\n",
       "      <td>0.036923</td>\n",
       "    </tr>\n",
       "    <tr>\n",
       "      <th>2</th>\n",
       "      <td>1.jpg</td>\n",
       "      <td>1529</td>\n",
       "      <td>975</td>\n",
       "      <td>tree</td>\n",
       "      <td>853</td>\n",
       "      <td>880</td>\n",
       "      <td>201</td>\n",
       "      <td>227</td>\n",
       "      <td>0.566710</td>\n",
       "      <td>0.219487</td>\n",
       "      <td>0.017659</td>\n",
       "      <td>0.026667</td>\n",
       "    </tr>\n",
       "    <tr>\n",
       "      <th>3</th>\n",
       "      <td>1.jpg</td>\n",
       "      <td>1529</td>\n",
       "      <td>975</td>\n",
       "      <td>tree</td>\n",
       "      <td>914</td>\n",
       "      <td>955</td>\n",
       "      <td>198</td>\n",
       "      <td>232</td>\n",
       "      <td>0.611184</td>\n",
       "      <td>0.220513</td>\n",
       "      <td>0.026815</td>\n",
       "      <td>0.034872</td>\n",
       "    </tr>\n",
       "    <tr>\n",
       "      <th>4</th>\n",
       "      <td>1.jpg</td>\n",
       "      <td>1529</td>\n",
       "      <td>975</td>\n",
       "      <td>tree</td>\n",
       "      <td>857</td>\n",
       "      <td>899</td>\n",
       "      <td>248</td>\n",
       "      <td>285</td>\n",
       "      <td>0.574232</td>\n",
       "      <td>0.273333</td>\n",
       "      <td>0.027469</td>\n",
       "      <td>0.037949</td>\n",
       "    </tr>\n",
       "  </tbody>\n",
       "</table>\n",
       "</div>"
      ],
      "text/plain": [
       "  filename  width  height  name  xmin  xmax  ymin  ymax  centre_x  centre_y  \\\n",
       "0    1.jpg   1529     975  tree  1009  1053   340   376  0.674297  0.367179   \n",
       "1    1.jpg   1529     975  tree  1038  1089   379   415  0.695553  0.407179   \n",
       "2    1.jpg   1529     975  tree   853   880   201   227  0.566710  0.219487   \n",
       "3    1.jpg   1529     975  tree   914   955   198   232  0.611184  0.220513   \n",
       "4    1.jpg   1529     975  tree   857   899   248   285  0.574232  0.273333   \n",
       "\n",
       "          W         H  \n",
       "0  0.028777  0.036923  \n",
       "1  0.033355  0.036923  \n",
       "2  0.017659  0.026667  \n",
       "3  0.026815  0.034872  \n",
       "4  0.027469  0.037949  "
      ]
     },
     "execution_count": 23,
     "metadata": {},
     "output_type": "execute_result"
    }
   ],
   "source": [
    "# train_df.head()"
   ]
  },
  {
   "cell_type": "code",
   "execution_count": 24,
   "id": "03bffb07-b12d-4971-b310-ff7fd0654dba",
   "metadata": {},
   "outputs": [
    {
     "data": {
      "text/html": [
       "<div>\n",
       "<style scoped>\n",
       "    .dataframe tbody tr th:only-of-type {\n",
       "        vertical-align: middle;\n",
       "    }\n",
       "\n",
       "    .dataframe tbody tr th {\n",
       "        vertical-align: top;\n",
       "    }\n",
       "\n",
       "    .dataframe thead th {\n",
       "        text-align: right;\n",
       "    }\n",
       "</style>\n",
       "<table border=\"1\" class=\"dataframe\">\n",
       "  <thead>\n",
       "    <tr style=\"text-align: right;\">\n",
       "      <th></th>\n",
       "      <th>filename</th>\n",
       "      <th>width</th>\n",
       "      <th>height</th>\n",
       "      <th>name</th>\n",
       "      <th>xmin</th>\n",
       "      <th>xmax</th>\n",
       "      <th>ymin</th>\n",
       "      <th>ymax</th>\n",
       "      <th>centre_x</th>\n",
       "      <th>centre_y</th>\n",
       "      <th>W</th>\n",
       "      <th>H</th>\n",
       "    </tr>\n",
       "  </thead>\n",
       "  <tbody>\n",
       "    <tr>\n",
       "      <th>137</th>\n",
       "      <td>10.jpg</td>\n",
       "      <td>1529</td>\n",
       "      <td>975</td>\n",
       "      <td>tree</td>\n",
       "      <td>113</td>\n",
       "      <td>142</td>\n",
       "      <td>239</td>\n",
       "      <td>268</td>\n",
       "      <td>0.083388</td>\n",
       "      <td>0.260000</td>\n",
       "      <td>0.018967</td>\n",
       "      <td>0.029744</td>\n",
       "    </tr>\n",
       "    <tr>\n",
       "      <th>138</th>\n",
       "      <td>10.jpg</td>\n",
       "      <td>1529</td>\n",
       "      <td>975</td>\n",
       "      <td>tree</td>\n",
       "      <td>97</td>\n",
       "      <td>129</td>\n",
       "      <td>270</td>\n",
       "      <td>294</td>\n",
       "      <td>0.073905</td>\n",
       "      <td>0.289231</td>\n",
       "      <td>0.020929</td>\n",
       "      <td>0.024615</td>\n",
       "    </tr>\n",
       "    <tr>\n",
       "      <th>139</th>\n",
       "      <td>10.jpg</td>\n",
       "      <td>1529</td>\n",
       "      <td>975</td>\n",
       "      <td>tree</td>\n",
       "      <td>61</td>\n",
       "      <td>90</td>\n",
       "      <td>335</td>\n",
       "      <td>363</td>\n",
       "      <td>0.049379</td>\n",
       "      <td>0.357949</td>\n",
       "      <td>0.018967</td>\n",
       "      <td>0.028718</td>\n",
       "    </tr>\n",
       "    <tr>\n",
       "      <th>140</th>\n",
       "      <td>10.jpg</td>\n",
       "      <td>1529</td>\n",
       "      <td>975</td>\n",
       "      <td>tree</td>\n",
       "      <td>23</td>\n",
       "      <td>65</td>\n",
       "      <td>242</td>\n",
       "      <td>279</td>\n",
       "      <td>0.028777</td>\n",
       "      <td>0.267179</td>\n",
       "      <td>0.027469</td>\n",
       "      <td>0.037949</td>\n",
       "    </tr>\n",
       "    <tr>\n",
       "      <th>141</th>\n",
       "      <td>10.jpg</td>\n",
       "      <td>1529</td>\n",
       "      <td>975</td>\n",
       "      <td>tree</td>\n",
       "      <td>46</td>\n",
       "      <td>86</td>\n",
       "      <td>210</td>\n",
       "      <td>244</td>\n",
       "      <td>0.043165</td>\n",
       "      <td>0.232821</td>\n",
       "      <td>0.026161</td>\n",
       "      <td>0.034872</td>\n",
       "    </tr>\n",
       "  </tbody>\n",
       "</table>\n",
       "</div>"
      ],
      "text/plain": [
       "    filename  width  height  name  xmin  xmax  ymin  ymax  centre_x  centre_y  \\\n",
       "137   10.jpg   1529     975  tree   113   142   239   268  0.083388  0.260000   \n",
       "138   10.jpg   1529     975  tree    97   129   270   294  0.073905  0.289231   \n",
       "139   10.jpg   1529     975  tree    61    90   335   363  0.049379  0.357949   \n",
       "140   10.jpg   1529     975  tree    23    65   242   279  0.028777  0.267179   \n",
       "141   10.jpg   1529     975  tree    46    86   210   244  0.043165  0.232821   \n",
       "\n",
       "            W         H  \n",
       "137  0.018967  0.029744  \n",
       "138  0.020929  0.024615  \n",
       "139  0.018967  0.028718  \n",
       "140  0.027469  0.037949  \n",
       "141  0.026161  0.034872  "
      ]
     },
     "execution_count": 24,
     "metadata": {},
     "output_type": "execute_result"
    }
   ],
   "source": [
    "# test_df.head()"
   ]
  },
  {
   "cell_type": "code",
   "execution_count": 25,
   "id": "76d06c29-defe-4c3f-9b2c-3aa1948281fe",
   "metadata": {},
   "outputs": [],
   "source": [
    "# Assign Id number to object names"
   ]
  },
  {
   "cell_type": "code",
   "execution_count": 55,
   "id": "ae176f42-13ae-4738-90fa-03c298d55123",
   "metadata": {},
   "outputs": [],
   "source": [
    "\n",
    "train_df['Id'] = 0\n",
    "test_df['Id'] = 0"
   ]
  },
  {
   "cell_type": "code",
   "execution_count": 29,
   "id": "4f912663-917a-4774-befb-5c9bd48b3a07",
   "metadata": {},
   "outputs": [
    {
     "data": {
      "text/html": [
       "<div>\n",
       "<style scoped>\n",
       "    .dataframe tbody tr th:only-of-type {\n",
       "        vertical-align: middle;\n",
       "    }\n",
       "\n",
       "    .dataframe tbody tr th {\n",
       "        vertical-align: top;\n",
       "    }\n",
       "\n",
       "    .dataframe thead th {\n",
       "        text-align: right;\n",
       "    }\n",
       "</style>\n",
       "<table border=\"1\" class=\"dataframe\">\n",
       "  <thead>\n",
       "    <tr style=\"text-align: right;\">\n",
       "      <th></th>\n",
       "      <th>filename</th>\n",
       "      <th>width</th>\n",
       "      <th>height</th>\n",
       "      <th>name</th>\n",
       "      <th>xmin</th>\n",
       "      <th>xmax</th>\n",
       "      <th>ymin</th>\n",
       "      <th>ymax</th>\n",
       "      <th>centre_x</th>\n",
       "      <th>centre_y</th>\n",
       "      <th>W</th>\n",
       "      <th>H</th>\n",
       "      <th>Id</th>\n",
       "    </tr>\n",
       "  </thead>\n",
       "  <tbody>\n",
       "    <tr>\n",
       "      <th>137</th>\n",
       "      <td>10.jpg</td>\n",
       "      <td>1529</td>\n",
       "      <td>975</td>\n",
       "      <td>tree</td>\n",
       "      <td>113</td>\n",
       "      <td>142</td>\n",
       "      <td>239</td>\n",
       "      <td>268</td>\n",
       "      <td>0.083388</td>\n",
       "      <td>0.260000</td>\n",
       "      <td>0.018967</td>\n",
       "      <td>0.029744</td>\n",
       "      <td>0</td>\n",
       "    </tr>\n",
       "    <tr>\n",
       "      <th>138</th>\n",
       "      <td>10.jpg</td>\n",
       "      <td>1529</td>\n",
       "      <td>975</td>\n",
       "      <td>tree</td>\n",
       "      <td>97</td>\n",
       "      <td>129</td>\n",
       "      <td>270</td>\n",
       "      <td>294</td>\n",
       "      <td>0.073905</td>\n",
       "      <td>0.289231</td>\n",
       "      <td>0.020929</td>\n",
       "      <td>0.024615</td>\n",
       "      <td>0</td>\n",
       "    </tr>\n",
       "    <tr>\n",
       "      <th>139</th>\n",
       "      <td>10.jpg</td>\n",
       "      <td>1529</td>\n",
       "      <td>975</td>\n",
       "      <td>tree</td>\n",
       "      <td>61</td>\n",
       "      <td>90</td>\n",
       "      <td>335</td>\n",
       "      <td>363</td>\n",
       "      <td>0.049379</td>\n",
       "      <td>0.357949</td>\n",
       "      <td>0.018967</td>\n",
       "      <td>0.028718</td>\n",
       "      <td>0</td>\n",
       "    </tr>\n",
       "    <tr>\n",
       "      <th>140</th>\n",
       "      <td>10.jpg</td>\n",
       "      <td>1529</td>\n",
       "      <td>975</td>\n",
       "      <td>tree</td>\n",
       "      <td>23</td>\n",
       "      <td>65</td>\n",
       "      <td>242</td>\n",
       "      <td>279</td>\n",
       "      <td>0.028777</td>\n",
       "      <td>0.267179</td>\n",
       "      <td>0.027469</td>\n",
       "      <td>0.037949</td>\n",
       "      <td>0</td>\n",
       "    </tr>\n",
       "    <tr>\n",
       "      <th>141</th>\n",
       "      <td>10.jpg</td>\n",
       "      <td>1529</td>\n",
       "      <td>975</td>\n",
       "      <td>tree</td>\n",
       "      <td>46</td>\n",
       "      <td>86</td>\n",
       "      <td>210</td>\n",
       "      <td>244</td>\n",
       "      <td>0.043165</td>\n",
       "      <td>0.232821</td>\n",
       "      <td>0.026161</td>\n",
       "      <td>0.034872</td>\n",
       "      <td>0</td>\n",
       "    </tr>\n",
       "  </tbody>\n",
       "</table>\n",
       "</div>"
      ],
      "text/plain": [
       "    filename  width  height  name  xmin  xmax  ymin  ymax  centre_x  centre_y  \\\n",
       "137   10.jpg   1529     975  tree   113   142   239   268  0.083388  0.260000   \n",
       "138   10.jpg   1529     975  tree    97   129   270   294  0.073905  0.289231   \n",
       "139   10.jpg   1529     975  tree    61    90   335   363  0.049379  0.357949   \n",
       "140   10.jpg   1529     975  tree    23    65   242   279  0.028777  0.267179   \n",
       "141   10.jpg   1529     975  tree    46    86   210   244  0.043165  0.232821   \n",
       "\n",
       "            W         H  Id  \n",
       "137  0.018967  0.029744   0  \n",
       "138  0.020929  0.024615   0  \n",
       "139  0.018967  0.028718   0  \n",
       "140  0.027469  0.037949   0  \n",
       "141  0.026161  0.034872   0  "
      ]
     },
     "execution_count": 29,
     "metadata": {},
     "output_type": "execute_result"
    }
   ],
   "source": [
    "# df.info()\n",
    "test_df.head()\n",
    "# print(\"HELLO\")\n",
    "# train_df.head()"
   ]
  },
  {
   "cell_type": "code",
   "execution_count": 33,
   "id": "71c95406-2645-4baf-b649-9b6e742cff08",
   "metadata": {},
   "outputs": [],
   "source": [
    "# Save image and labels in text"
   ]
  },
  {
   "cell_type": "code",
   "execution_count": 30,
   "id": "34a10322-cc1b-407c-a508-28ec04be85ff",
   "metadata": {},
   "outputs": [],
   "source": [
    "import os\n",
    "from shutil import move"
   ]
  },
  {
   "cell_type": "code",
   "execution_count": 32,
   "id": "64ea15ac-06aa-4366-a3f6-0db6a0c7b639",
   "metadata": {},
   "outputs": [],
   "source": [
    "# Give folder location\n",
    "train_folder = '1_datapreparation/data_images/train'\n",
    "test_folder = '1_datapreparation/data_images/test'\n",
    "\n",
    "os.mkdir(train_folder)\n",
    "os.mkdir(test_folder)"
   ]
  },
  {
   "cell_type": "code",
   "execution_count": 33,
   "id": "d9c5f8ea-f8d3-439a-a63e-91c4bfc303db",
   "metadata": {},
   "outputs": [],
   "source": [
    "cols = ['filename', 'Id', 'centre_x', 'centre_y', 'W', 'H']\n",
    "groupby_obj_train = train_df[cols].groupby('filename')\n",
    "groupby_obj_test  = test_df [cols].groupby('filename')"
   ]
  },
  {
   "cell_type": "code",
   "execution_count": null,
   "id": "16c1eb11-1a85-45e2-b9c2-d0e8512d353b",
   "metadata": {},
   "outputs": [],
   "source": []
  },
  {
   "cell_type": "code",
   "execution_count": 35,
   "id": "355f631b-40fc-42c3-b653-84677aba6e90",
   "metadata": {},
   "outputs": [],
   "source": [
    "#Save each image in train/test folder and respective labels in .txt\n",
    "def save_data(filename, folder_path, group_obj):\n",
    "    # move image\n",
    "    src = os.path.join('1_datapreparation/data_images/', filename)\n",
    "    dst = os.path.join(folder_path, filename)\n",
    "    move(src, dst)  # move img to destination folder\n",
    "\n",
    "    #save the labels\n",
    "    text_filename = os.path.join(folder_path, os.path.splitext(filename)[0]+'.txt')\n",
    "    group_obj.get_group(filename).set_index('filename').to_csv(text_filename, sep=' ', index = False, header = False)\n",
    "    "
   ]
  },
  {
   "cell_type": "code",
   "execution_count": 36,
   "id": "2258bc08-464b-4fe4-91af-25b0a14f136f",
   "metadata": {},
   "outputs": [],
   "source": [
    "filename_series = pd.Series(groupby_obj_train.groups.keys())"
   ]
  },
  {
   "cell_type": "code",
   "execution_count": 37,
   "id": "467c8cae-cb1b-4de9-8421-78a493ec89a1",
   "metadata": {},
   "outputs": [
    {
     "data": {
      "text/plain": [
       "0     None\n",
       "1     None\n",
       "2     None\n",
       "3     None\n",
       "4     None\n",
       "5     None\n",
       "6     None\n",
       "7     None\n",
       "8     None\n",
       "9     None\n",
       "10    None\n",
       "11    None\n",
       "12    None\n",
       "13    None\n",
       "14    None\n",
       "15    None\n",
       "16    None\n",
       "17    None\n",
       "18    None\n",
       "19    None\n",
       "20    None\n",
       "21    None\n",
       "22    None\n",
       "23    None\n",
       "24    None\n",
       "25    None\n",
       "26    None\n",
       "dtype: object"
      ]
     },
     "execution_count": 37,
     "metadata": {},
     "output_type": "execute_result"
    }
   ],
   "source": [
    "filename_series.apply(save_data,args=(train_folder, groupby_obj_train))\n",
    "# filename_series"
   ]
  },
  {
   "cell_type": "code",
   "execution_count": 38,
   "id": "1aea2947-7a66-46dd-998a-be38210f19b3",
   "metadata": {},
   "outputs": [
    {
     "data": {
      "text/plain": [
       "0    None\n",
       "1    None\n",
       "2    None\n",
       "dtype: object"
      ]
     },
     "execution_count": 38,
     "metadata": {},
     "output_type": "execute_result"
    }
   ],
   "source": [
    "filename_series_test = pd.Series(groupby_obj_test.groups.keys())\n",
    "filename_series_test.apply(save_data, args=(test_folder, groupby_obj_test))"
   ]
  }
 ],
 "metadata": {
  "kernelspec": {
   "display_name": "Python 3 (ipykernel)",
   "language": "python",
   "name": "python3"
  },
  "language_info": {
   "codemirror_mode": {
    "name": "ipython",
    "version": 3
   },
   "file_extension": ".py",
   "mimetype": "text/x-python",
   "name": "python",
   "nbconvert_exporter": "python",
   "pygments_lexer": "ipython3",
   "version": "3.9.7"
  }
 },
 "nbformat": 4,
 "nbformat_minor": 5
}

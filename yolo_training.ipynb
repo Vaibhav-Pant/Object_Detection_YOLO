{
 "cells": [
  {
   "cell_type": "code",
   "execution_count": 14,
   "id": "8f0c021c-7f1d-47a6-9f1c-f2fc8f1e2eca",
   "metadata": {},
   "outputs": [],
   "source": [
    "import os\n",
    "os.environ[\"GIT_PYTHON_REFRESH\"] = \"quiet\""
   ]
  },
  {
   "cell_type": "code",
   "execution_count": 13,
   "id": "188c0bd8-8629-458d-88fb-b9412f85f272",
   "metadata": {},
   "outputs": [],
   "source": [
    "# Training YOLOv5 model\n",
    "# Make sure you have install YoloV5 from Github in your directory."
   ]
  },
  {
   "cell_type": "code",
   "execution_count": 11,
   "id": "d32cdfaf-42bc-42bc-b7ad-d7267249453f",
   "metadata": {
    "scrolled": true
   },
   "outputs": [],
   "source": [
    "# yaml file should contain corrrect path for test/train images\n",
    "# a label folder with all .txt file should be in same directory\n",
    "\n",
    "!python train.py --data data.yaml --cfg yolov5s.yaml --batch-size 8 --name Final_Model --epochs 50"
   ]
  },
  {
   "cell_type": "code",
   "execution_count": 12,
   "id": "12e3383c-cda0-4ce4-b115-4b8500774b36",
   "metadata": {
    "scrolled": true
   },
   "outputs": [],
   "source": [
    "# Convert best.pt to onnx format so that we can use in OpenCv\n",
    "\n",
    "!python export.py --weights runs/train/Final_Model/weights/best.pt --include torchscript onnx"
   ]
  }
 ],
 "metadata": {
  "kernelspec": {
   "display_name": "Python 3 (ipykernel)",
   "language": "python",
   "name": "python3"
  },
  "language_info": {
   "codemirror_mode": {
    "name": "ipython",
    "version": 3
   },
   "file_extension": ".py",
   "mimetype": "text/x-python",
   "name": "python",
   "nbconvert_exporter": "python",
   "pygments_lexer": "ipython3",
   "version": "3.9.7"
  }
 },
 "nbformat": 4,
 "nbformat_minor": 5
}

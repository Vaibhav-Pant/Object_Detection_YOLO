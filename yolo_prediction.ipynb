{
 "cells": [
  {
   "cell_type": "code",
   "execution_count": 2,
   "id": "e87caaaa-cbd5-4181-9581-e24c09d0df1b",
   "metadata": {},
   "outputs": [],
   "source": [
    "import cv2\n",
    "import numpy as np\n",
    "import os\n",
    "import yaml\n",
    "from yaml.loader import SafeLoader"
   ]
  },
  {
   "cell_type": "code",
   "execution_count": 3,
   "id": "b247a8ec-3bed-41d7-be5d-9bf5990189e8",
   "metadata": {},
   "outputs": [],
   "source": [
    "# !pip install PyYAML"
   ]
  },
  {
   "cell_type": "code",
   "execution_count": 19,
   "id": "86b14f9e-139c-4b1b-a9ff-4ab101b02add",
   "metadata": {},
   "outputs": [
    {
     "name": "stdout",
     "output_type": "stream",
     "text": [
      "['tree']\n"
     ]
    }
   ],
   "source": [
    "# load yaml\n",
    "with open('data.yaml', mode='r')as f:\n",
    "    data_yaml = yaml.load(f, Loader=SafeLoader)\n",
    "\n",
    "labels = data_yaml['names']\n",
    "print(labels)\n"
   ]
  },
  {
   "cell_type": "code",
   "execution_count": 20,
   "id": "bd401203-f97a-4c8d-aa68-669ecdfa5baa",
   "metadata": {},
   "outputs": [],
   "source": [
    "# Load yolo model\n",
    "yolo = cv2.dnn.readNetFromONNX('runs\\\\train\\\\Final_Model\\\\weights\\\\best.onnx')\n",
    "yolo.setPreferableBackend(cv2.dnn.DNN_BACKEND_OPENCV)\n",
    "yolo.setPreferableTarget(cv2.dnn.DNN_TARGET_CPU)"
   ]
  },
  {
   "cell_type": "code",
   "execution_count": 21,
   "id": "9f738c2c-407d-4df9-8377-f4a101da759b",
   "metadata": {},
   "outputs": [],
   "source": [
    "# Load image\n",
    "img = cv2.imread('Test_Model_Images/test4_2.jpg')\n",
    "image = img.copy()\n",
    "row, col, d = image.shape\n",
    "\n",
    "# get the yolo prediction from the image\n",
    "# 1) Convert image to square matrix(array)\n",
    "max_rc = max(int(row), int(col))\n",
    "input_image = np.zeros((max_rc, max_rc,3), dtype = np.uint8)\n",
    "input_image[0:int(row), 0:int(col)] = image\n",
    "\n",
    "# 2) get prediction from square array\n",
    "input_wh_yolo = 640\n",
    "blob = cv2.dnn.blobFromImage(input_image, 1/255,(input_wh_yolo,input_wh_yolo),swapRB=True, crop = False)\n",
    "yolo.setInput(blob)\n",
    "preds = yolo.forward()  #detection or prediction from yolo"
   ]
  },
  {
   "cell_type": "code",
   "execution_count": 22,
   "id": "422a358b-34ea-44b4-a998-29f553da3a50",
   "metadata": {},
   "outputs": [
    {
     "name": "stdout",
     "output_type": "stream",
     "text": [
      "(1, 25200, 6)\n"
     ]
    }
   ],
   "source": [
    "print(preds.shape)"
   ]
  },
  {
   "cell_type": "code",
   "execution_count": 23,
   "id": "bef7cd85-bc5c-4e89-a118-e0f49cb016d7",
   "metadata": {},
   "outputs": [],
   "source": [
    "# Non Maximum Supression\n",
    "# 1) Filter detectioon based on confidence (0.2) and probability score (0.1)\n",
    "detection = preds[0]\n",
    "boxes = []\n",
    "confidences = []\n",
    "classes = []\n",
    "\n",
    "\n",
    "# width and height of the image (input_image)\n",
    "image_w, image_h = input_image.shape[:2]\n",
    "x_factor = image_w/input_wh_yolo\n",
    "y_factor = image_h/input_wh_yolo\n",
    "\n",
    "for i in range(len(detection)):\n",
    "    row = detection[i]\n",
    "    confidence = row[4] #confidence of detection an object\n",
    "    if confidence > 0.2:\n",
    "        class_score = row[5:].max() #Max probility of objects\n",
    "        class_id = row[5:].argmax() # Get the index position at which  max prob occur\n",
    " \n",
    "        if class_score > 0.3:\n",
    "            cx, cy, w, h = row[0:4]\n",
    "            # construct bounding box from four values\n",
    "            # Left, top, width, height\n",
    "            left = int((cx - 0.5*w)*x_factor)\n",
    "            top = int((cy - 0.5*h)*y_factor)\n",
    "            width = int(w*x_factor)\n",
    "            height = int(h*y_factor)\n",
    "\n",
    "            box = np.array([left, top, width, height])\n",
    "\n",
    "            # Append values into the list\n",
    "            confidences.append(confidence)\n",
    "            boxes.append(box)\n",
    "            classes.append(class_id)\n",
    "            \n",
    "# clean\n",
    "boxes_np = np.array(boxes).tolist()\n",
    "confidences_np = np.array(confidences).tolist()\n",
    "\n",
    "# NMS\n",
    "index = cv2.dnn.NMSBoxes(boxes_np, confidences_np, 0.1, 0.1).flatten()\n"
   ]
  },
  {
   "cell_type": "code",
   "execution_count": 24,
   "id": "c3d295f4-858b-4986-9b08-4836235a6acd",
   "metadata": {},
   "outputs": [
    {
     "name": "stdout",
     "output_type": "stream",
     "text": [
      "74\n"
     ]
    }
   ],
   "source": [
    "# Number of objects detected by model.\n",
    "print(len(index))"
   ]
  },
  {
   "cell_type": "code",
   "execution_count": 25,
   "id": "5e239ae3-8321-45e7-8186-639e2e3c7fa8",
   "metadata": {},
   "outputs": [],
   "source": [
    "# Draw the boundings\n",
    "for ind in index:\n",
    "    x,y,w,h = boxes_np[ind]\n",
    "    bb_conf = int(confidences_np[ind]*100)\n",
    "    classes_id = classes[ind]\n",
    "    class_name = labels[classes_id]\n",
    "\n",
    "    # To create rectangle\n",
    "    # cv2.rectangle(image,(x,y),(x+w,y+h),(0,255,0),1)\n",
    "    \n",
    "    # To create circle\n",
    "    cv2.circle(image, (int(x+0.5*w), int(y+0.5*h)), radius = 10, color = (0,255,0), thickness=2)\n",
    "\n"
   ]
  },
  {
   "cell_type": "code",
   "execution_count": 27,
   "id": "2983a38b-e17f-4650-9801-1c70697cfec1",
   "metadata": {},
   "outputs": [],
   "source": [
    "# boxes\n",
    "cv2.imshow('Original', img)\n",
    "image = cv2.putText(image, 'Count of Trees: ' + str(len(index)),(5,20), cv2.FONT_HERSHEY_SIMPLEX,  \n",
    "                   0.6, (0,0,255), 1, cv2.LINE_AA) \n",
    "cv2.imshow('Prediction', image)\n",
    "cv2.waitKey(0)\n",
    "cv2.destroyAllWindows()\n"
   ]
  },
  {
   "cell_type": "code",
   "execution_count": null,
   "id": "70e31b55-8c7c-4c3e-b19a-26fd1a2acf46",
   "metadata": {},
   "outputs": [],
   "source": []
  }
 ],
 "metadata": {
  "kernelspec": {
   "display_name": "Python 3 (ipykernel)",
   "language": "python",
   "name": "python3"
  },
  "language_info": {
   "codemirror_mode": {
    "name": "ipython",
    "version": 3
   },
   "file_extension": ".py",
   "mimetype": "text/x-python",
   "name": "python",
   "nbconvert_exporter": "python",
   "pygments_lexer": "ipython3",
   "version": "3.9.7"
  }
 },
 "nbformat": 4,
 "nbformat_minor": 5
}
